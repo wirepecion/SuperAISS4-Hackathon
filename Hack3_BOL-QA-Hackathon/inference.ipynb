{
 "cells": [
  {
   "cell_type": "code",
   "execution_count": 77,
   "id": "abe15183-4a77-4d99-95be-19a407b04e75",
   "metadata": {
    "tags": []
   },
   "outputs": [],
   "source": [
    "import os\n",
    "import torch\n",
    "from tqdm import tqdm"
   ]
  },
  {
   "cell_type": "code",
   "execution_count": 78,
   "id": "0acf1134-c023-4d75-b9ac-5889030946a2",
   "metadata": {
    "tags": []
   },
   "outputs": [
    {
     "name": "stderr",
     "output_type": "stream",
     "text": [
      "Loading checkpoint shards: 100%|██████████| 4/4 [00:15<00:00,  3.80s/it]\n"
     ]
    }
   ],
   "source": [
    "# Load model directly\n",
    "from transformers import AutoTokenizer, AutoModelForCausalLM\n",
    "import torch\n",
    "\n",
    "tokenizer = AutoTokenizer.from_pretrained(\"your_model_name\")\n",
    "model = AutoModelForCausalLM.from_pretrained(\"your_model_name\", device_map='auto',torch_dtype=torch.float16)"
   ]
  },
  {
   "cell_type": "code",
   "execution_count": 79,
   "id": "308e66fa-7c89-4872-b992-305aa9417282",
   "metadata": {
    "tags": []
   },
   "outputs": [
    {
     "data": {
      "text/plain": [
       "\"   id          rgno                                      context  pattern  \\\\\\n0   0  105510003412  ลายมือชื่อของกรรมการคนใดคนหนึ่งลงลายมือชื่อ    11015   \\n1   1  105510003412  ลายมือชื่อของกรรมการคนใดคนหนึ่งลงลายมือชื่อ    11015   \\n2   2  105510003412  ลายมือชื่อของกรรมการคนใดคนหนึ่งลงลายมือชื่อ    11015   \\n3   3  105510003412  ลายมือชื่อของกรรมการคนใดคนหนึ่งลงลายมือชื่อ    11015   \\n4   4  105510003412  ลายมือชื่อของกรรมการคนใดคนหนึ่งลงลายมือชื่อ    11015   \\n\\n               question                           legal_act condition  \\n0    ['สหชา อินทร์ไชย']                          การขอวีซ่า       NaN  \\n1      ['สุเมธ คุ้มคง']                        การค้ำประกัน       NaN  \\n2     ['ภควัฒน์ ผาสุข']  ใบอนุญาตจำหน่ายสุราและจำหน่ายยาสูบ       NaN  \\n3  ['อชิระ อาจนาเสียว']                              ธนาคาร       NaN  \\n4   ['ณัฐวีร์ แนวกำพล']                          มัคคุเทศน์       NaN  \""
      ]
     },
     "execution_count": 79,
     "metadata": {},
     "output_type": "execute_result"
    }
   ],
   "source": [
    "import pandas as pd\n",
    "df = pd.read_csv('your_test_data.csv')\n",
    "str(df.head())"
   ]
  },
  {
   "cell_type": "code",
   "execution_count": 97,
   "id": "ab8fe295-7526-4253-8912-04883306a28d",
   "metadata": {
    "tags": []
   },
   "outputs": [],
   "source": [
    "def formatting_prompts_func(example):\n",
    "    output_texts = []\n",
    "\n",
    "    for i in range(len(example[\"context\"])):\n",
    "        \n",
    "        try:\n",
    "            total = len(eval(question))\n",
    "        except:\n",
    "            total = \"don't know\"\n",
    "        \n",
    "        messages = [\n",
    "    {\n",
    "        \"role\": \"system\",\n",
    "        \"content\": \"You are a Thai linguist who knows about the Thai language. Your job is to verify the authority of the Fraud Detection Committee based on the signatures provided in context. The committee whose signature is in the committee list.\\nFormat task that provides:\\n1. Context\\nDescription of context: This includes the name of the committee and conditions.\\nCommittee is a group of members with the authority, granted fairly, to sign documents.\\nThe condition often takes the form of specifying the required number of committee members to sign, determining which committee group to draw from, and requiring someone to sign if the amount exceeds X baht \\n2. Signs_committee\\nDescription of signs_committee: The group of people who sign this document.\\n3. number_of_committee \\nDescription of number_of_committee: The number of signs_committee \\n Instruction: Helps check whether the committee's signatures match the conditions stated earlier in the context. You should respond with 0 if they don't match, and 1 if they do. don't respond in string\"\n",
    "    },\n",
    "    {\n",
    "        \"role\": \"user\",\n",
    "        \"content\": f\"context : {example['context'][i]}.\\nSigns_committee : {example['question'][i]}\\n number_of_committee:{total}\"\n",
    "    },\n",
    "    {\"role\": \"assistant\", \"content\": str(example[\"answer\"][i])},\n",
    "]\n",
    "        output_texts.append(messages)\n",
    "    return output_texts"
   ]
  },
  {
   "cell_type": "code",
   "execution_count": 86,
   "id": "4c0d97d5-2530-448d-8d36-ce8cb5b61a5a",
   "metadata": {
    "tags": []
   },
   "outputs": [],
   "source": [
    "# Apply the formatting_prompts_func function to your data\n",
    "formatted_data = formatting_prompts_func(df)"
   ]
  },
  {
   "cell_type": "code",
   "execution_count": 87,
   "id": "54495512-8ed5-4595-a93a-1607eaee9eae",
   "metadata": {
    "tags": []
   },
   "outputs": [
    {
     "name": "stderr",
     "output_type": "stream",
     "text": [
      "100%|██████████| 5835/5835 [07:15<00:00, 13.39it/s]\n"
     ]
    }
   ],
   "source": [
    "outputs = []\n",
    "for example in tqdm(formatted_data):\n",
    "    gen_input = tokenizer.apply_chat_template(example, add_generation_prompt=True, return_tensors=\"pt\").to(model.device)\n",
    "    out = model.generate(gen_input, max_new_tokens=1)\n",
    "    output = tokenizer.decode(out[0]).split('|im_start|>assistant')[-1].split('<|im_end|>')[0].strip().split('<eos>')[0]\n",
    "    outputs.append(output)"
   ]
  },
  {
   "cell_type": "code",
   "execution_count": 88,
   "id": "698b0cab-9fe7-4149-b57c-58ca0ba75313",
   "metadata": {
    "tags": []
   },
   "outputs": [],
   "source": [
    "submission = pd.DataFrame({\"id\":list(range(len(outputs))),\"answer\":outputs})"
   ]
  },
  {
   "cell_type": "code",
   "execution_count": 89,
   "id": "1be3648c-b0e8-4a48-8d9a-9facf58a810b",
   "metadata": {
    "tags": []
   },
   "outputs": [],
   "source": [
    "submission.to_csv(\"submission.csv\",index=False)"
   ]
  }
 ],
 "metadata": {
  "kernelspec": {
   "display_name": "Python 3.9 via SLURM 1 GpU",
   "language": "python",
   "name": "jupyter-eg-kernel-slurm-py39-1ho8qtrg0"
  },
  "language_info": {
   "codemirror_mode": {
    "name": "ipython",
    "version": 3
   },
   "file_extension": ".py",
   "mimetype": "text/x-python",
   "name": "python",
   "nbconvert_exporter": "python",
   "pygments_lexer": "ipython3",
   "version": "3.9.18"
  }
 },
 "nbformat": 4,
 "nbformat_minor": 5
}
