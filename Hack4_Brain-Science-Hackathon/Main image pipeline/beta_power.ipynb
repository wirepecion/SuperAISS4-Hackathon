{
 "cells": [
  {
   "cell_type": "code",
   "execution_count": 1,
   "metadata": {},
   "outputs": [],
   "source": [
    "import numpy as np"
   ]
  },
  {
   "cell_type": "code",
   "execution_count": 2,
   "metadata": {},
   "outputs": [],
   "source": [
    "fs = 250"
   ]
  },
  {
   "cell_type": "code",
   "execution_count": 3,
   "metadata": {},
   "outputs": [],
   "source": [
    "from scipy.signal import butter, filtfilt, iirnotch\n",
    "\n",
    "def bandpass_filter(data, lowcut, highcut, fs, order=5):\n",
    "    nyq = 0.5 * fs\n",
    "    low = lowcut / nyq\n",
    "    high = highcut / nyq\n",
    "    b, a = butter(order, [low, high], btype='band')\n",
    "    y = filtfilt(b, a, data)\n",
    "    return y\n",
    "\n",
    "def notch_filter(data, freq, fs, quality=30):\n",
    "    nyq = 0.5 * fs\n",
    "    freq = freq / nyq\n",
    "    b, a = iirnotch(freq, quality)\n",
    "    y = filtfilt(b, a, data)\n",
    "    return y"
   ]
  },
  {
   "cell_type": "code",
   "execution_count": 4,
   "metadata": {},
   "outputs": [],
   "source": [
    "def baseline_correction(data):\n",
    "    # Baseline correction using the polynomial fit method\n",
    "    # Fit a line to the data\n",
    "    p = np.polyfit(np.arange(len(data)), data, 1)  # Polynomial fit of degree 1 (linear)\n",
    "    # Subtract the fitted line from the data\n",
    "    corrected_data = data - np.polyval(p, np.arange(len(data)))\n",
    "    return corrected_data"
   ]
  },
  {
   "cell_type": "code",
   "execution_count": 5,
   "metadata": {},
   "outputs": [],
   "source": [
    "from scipy.signal import welch\n",
    "\n",
    "# Function to perform spectral analysis\n",
    "def spectral_analysis(data, fs):\n",
    "    # Compute the power spectral density using Welch's method\n",
    "    f, Pxx = welch(data, fs=fs, nperseg=1024)\n",
    "    return f, Pxx"
   ]
  },
  {
   "cell_type": "code",
   "execution_count": 6,
   "metadata": {},
   "outputs": [],
   "source": [
    "alpha_band = (8, 13)\n",
    "beta_band = (13, 30)\n",
    "\n",
    "# Function to extract power in a specific frequency band\n",
    "def extract_band_power(frequencies, power_spectrum, band):\n",
    "    band_mask = (frequencies >= band[0]) & (frequencies <= band[1])\n",
    "    band_power = np.sum(power_spectrum[band_mask])\n",
    "    return band_power"
   ]
  },
  {
   "cell_type": "code",
   "execution_count": 7,
   "metadata": {},
   "outputs": [],
   "source": [
    "from scipy.ndimage import uniform_filter1d\n",
    "\n",
    "# Define the window size for the moving average (e.g., corresponding to about 1 second of data)\n",
    "window_size = int(fs * 1)  # 1 second window, given the sampling rate (fs) is 250 Hz\n",
    "\n",
    "# Function to calculate moving average using a uniform filter for simplicity\n",
    "def moving_average(data, size):\n",
    "    return uniform_filter1d(data, size=size, mode='reflect')"
   ]
  },
  {
   "cell_type": "code",
   "execution_count": 8,
   "metadata": {},
   "outputs": [],
   "source": [
    "start_index = 3 * 250  # 3 seconds * 250 Hz\n",
    "end_index = 5 * 250    # 5 seconds * 250 Hz"
   ]
  },
  {
   "cell_type": "code",
   "execution_count": 23,
   "metadata": {},
   "outputs": [
    {
     "data": {
      "text/plain": [
       "'120'"
      ]
     },
     "execution_count": 23,
     "metadata": {},
     "output_type": "execute_result"
    }
   ],
   "source": [
    "# Load the latest uploaded .npy file\n",
    "latest_data = np.load(r'test\\eb229854-1a14-4e1f-8e52-470edbec47c9.npy')\n",
    "\n",
    "# Assuming the same configuration: first 8 channels, 250 Hz sampling rate\n",
    "# Apply baseline correction, bandpass filter (0.5-30 Hz), and notch filter (60 Hz) to the latest data\n",
    "latest_baseline_corrected_channels = np.array([baseline_correction(ch) for ch in latest_data[:, :8].T]).T\n",
    "latest_bandpassed_channels = np.array([bandpass_filter(ch, 0.5, 30, fs) for ch in latest_baseline_corrected_channels.T]).T\n",
    "latest_filtered_channels = np.array([notch_filter(ch, 60, fs) for ch in latest_bandpassed_channels.T]).T\n",
    "\n",
    "# Calculate the beta power as a time series for each of the motor-related channels (C3, C4)\n",
    "latest_beta_power_ts_c3 = bandpass_filter(latest_filtered_channels[:, 1], 7, 40, fs)  # C3\n",
    "latest_beta_power_ts_c4 = bandpass_filter(latest_filtered_channels[:, 3], 7, 40, fs)  # C4\n",
    "\n",
    "# Apply moving average to smooth the beta power time series\n",
    "latest_smoothed_beta_c3 = moving_average(latest_beta_power_ts_c3**2, window_size)\n",
    "latest_smoothed_beta_c4 = moving_average(latest_beta_power_ts_c4**2, window_size)\n",
    "\n",
    "# Extract the task period from the latest data based on the known active period (3rd to 5th second)\n",
    "latest_task_period_beta_c3 = latest_smoothed_beta_c3[start_index:end_index]\n",
    "latest_task_period_beta_c4 = latest_smoothed_beta_c4[start_index:end_index]\n",
    "\n",
    "# Calculate the average beta power during the task period for each channel\n",
    "latest_avg_beta_power_c3 = np.mean(latest_task_period_beta_c3)\n",
    "latest_avg_beta_power_c4 = np.mean(latest_task_period_beta_c4)\n",
    "\n",
    "# Make a decision based on the beta power comparison:\n",
    "# Considering a threshold to determine if it's resting or active based on average power being significantly lower\n",
    "resting_threshold = 0.5 * (latest_avg_beta_power_c3 + latest_avg_beta_power_c4)\n",
    "if latest_avg_beta_power_c3 < resting_threshold and latest_avg_beta_power_c4 > resting_threshold:\n",
    "    latest_conclusion = \"110.\"\n",
    "elif latest_avg_beta_power_c4 < resting_threshold and latest_avg_beta_power_c3 > resting_threshold:\n",
    "    latest_conclusion = \"120\"\n",
    "elif latest_avg_beta_power_c3 > resting_threshold and latest_avg_beta_power_c4 > resting_threshold:\n",
    "    latest_conclusion = \"150\"\n",
    "\n",
    "latest_conclusion"
   ]
  },
  {
   "cell_type": "code",
   "execution_count": 16,
   "metadata": {},
   "outputs": [],
   "source": [
    "#120 right arm"
   ]
  },
  {
   "cell_type": "code",
   "execution_count": null,
   "metadata": {},
   "outputs": [],
   "source": []
  }
 ],
 "metadata": {
  "kernelspec": {
   "display_name": "Python 3",
   "language": "python",
   "name": "python3"
  },
  "language_info": {
   "codemirror_mode": {
    "name": "ipython",
    "version": 3
   },
   "file_extension": ".py",
   "mimetype": "text/x-python",
   "name": "python",
   "nbconvert_exporter": "python",
   "pygments_lexer": "ipython3",
   "version": "3.11.7"
  }
 },
 "nbformat": 4,
 "nbformat_minor": 2
}
