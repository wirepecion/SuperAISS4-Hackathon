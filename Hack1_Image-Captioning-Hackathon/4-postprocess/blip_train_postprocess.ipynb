{
 "cells": [
  {
   "cell_type": "code",
   "execution_count": null,
   "metadata": {},
   "outputs": [],
   "source": [
    "import pandas as pd\n",
    "import re"
   ]
  },
  {
   "cell_type": "code",
   "execution_count": null,
   "metadata": {},
   "outputs": [],
   "source": [
    "csv = pd.read_csv('../../output/blip2/manual_postprocess.csv')\n",
    "\n",
    "csv"
   ]
  },
  {
   "cell_type": "code",
   "execution_count": null,
   "metadata": {},
   "outputs": [],
   "source": [
    "capt_test = csv[\"caption\"].to_list()\n",
    "\n",
    "\n",
    "def query_regex(items, arg):\n",
    "    # Regex pattern to find English letters\n",
    "    pattern = re.compile(arg)\n",
    "    # Filter items containing English letters\n",
    "    return [item for item in items if pattern.search(str(item))]\n",
    "\n",
    "\n",
    "test = query_regex(capt_test, r'^\\bมี(?!ด)\\b')\n",
    "\n",
    "rmarr = []\n",
    "\n",
    "for i in test:\n",
    "    rmarr.append(re.sub(r'^\\bมี(?!ด)\\b', '', i))\n",
    "\n",
    "query_regex(rmarr, r'^\\bมี(?!ด)\\b')"
   ]
  },
  {
   "cell_type": "code",
   "execution_count": null,
   "metadata": {},
   "outputs": [],
   "source": [
    "remove_text = [\"ภาพระยะใกล้ของ\", 'อาราเฟด', 'อาราฟี่', 'อาราเฟ่', 'อาราแฟลน', 'arafed', 'arafly',\n",
    "               'Arafed', 'araffasher', 'araflane', 'araflanes', 'araffe', 'araffed', 'arafiguard', 'อาราเฟลน',\n",
    "               'arafian', 'arafia', 'arafians', 'Araffler', 'arafoasta', 'Arafson', 'arafalaia', 'อาราเฟน',\n",
    "               'araffactor', ' arafexor', 'Arafly', 'Araffy', 'Arafed', 'araffes', 'Araffatured', 'อาราแฟร์',\n",
    "               'arafiancence', 'araffy', 'araffle', 'arafy', 'araful', 'arafson', 'arafitoo', 'araffle',\n",
    "               'Arfly', 'arafair', 'arafsons', 'wii', 'Wii', 'Araf', 'ชาวอาราเฟค', 'อาราฟ',\n",
    "               'อาราเฟีย', 'อาราเฟต', 'อาราแฟด', 'อาราเฟ็กเซอร์', 'อาราเฟ', 'ครับ', 'ค่ะ', 'นะคะ', 'นะค่ะ', 'คร่า', '\"', '-']"
   ]
  },
  {
   "cell_type": "code",
   "execution_count": null,
   "metadata": {},
   "outputs": [],
   "source": [
    "def postprocess(text):\n",
    "    for i in remove_text:\n",
    "        text = re.sub(i, '', text)\n",
    "\n",
    "    text = re.sub(r'^\\bมี(?!ด)\\b', '', text)\n",
    "\n",
    "    text = re.sub(r'กําลัง', 'กำลัง', text)\n",
    "\n",
    "    text = re.sub(r' ๆ', 'ๆ', text)\n",
    "    text = re.sub(r'ๆ ', 'ๆ', text)\n",
    "\n",
    "    text = re.sub(r'ๆ', ' ๆ ', text)\n",
    "\n",
    "    text = re.sub(r'\\s{2,}', ' ', text)\n",
    "\n",
    "    return text"
   ]
  },
  {
   "cell_type": "code",
   "execution_count": null,
   "metadata": {},
   "outputs": [],
   "source": [
    "csv['caption'] = csv['caption'].apply(postprocess)"
   ]
  },
  {
   "cell_type": "code",
   "execution_count": null,
   "metadata": {},
   "outputs": [],
   "source": [
    "csv"
   ]
  },
  {
   "cell_type": "code",
   "execution_count": null,
   "metadata": {},
   "outputs": [],
   "source": [
    "corrections = {\n",
    "    \"แครอท\": \"แคร์รอต\",\n",
    "    \"กระพริบ\": \"กะพริบ\",\n",
    "    \"กระเพรา\": \"กะเพรา\",\n",
    "    \"ศรีษะ\": \"ศีรษะ\",\n",
    "    \"ไอติม\": \"ไอศกรีม\",\n",
    "    \"กาละมัง\": \"กะละมัง\",\n",
    "    \"คำนวน\": \"คำนวณ\",\n",
    "    \"ออฟฟิซ\": \"ออฟฟิศ\",\n",
    "    \"รีสอร์ท\": \"รีสอร์ต\",\n",
    "    \"เต๊นท์\": \"เต็นท์\",\n",
    "    \"เต้นท์\": \"เต็นท์\",\n",
    "    \"โพสต์\": \"โพส\",\n",
    "    \"คุ๊กกี้\": \"คุกกี้\",\n",
    "    \"เค๊ก\": \"เค้ก\",\n",
    "    \"เครื่องสำอางค์\": \"เครื่องสำอาง\",\n",
    "    \"จั๊กจั่น\": \"จักจั่น\",\n",
    "    \"เซ็น\": \"เซ็นต์\",\n",
    "    \"คึ่นไช่\": \"ข้นแค้น\",\n",
    "    \"แครอต\": \"แคร์รอต\",\n",
    "    \"ถวายอาลัย\": \"ถวาย\",\n",
    "    \"กราฟฟิค\": \"กราฟิก\",\n",
    "    \"บราวเซอร์\": \"เบราว์เซอร์\",\n",
    "    \"ดิจิตอล\": \"ดิจิทัล\",\n",
    "    \"อีเมล์\": \"อีเมล\",\n",
    "    \"เฟสบุ๊ก\": \"เฟซบุ๊ก\",\n",
    "    \"เกมส์\": \"เกม\",\n",
    "    \"แล็ป\": \"แล็บ\",\n",
    "    \"แลป\": \"แล็บ\",\n",
    "    \"ลิงค์\": \"ลิงก์\",\n",
    "    \"สมาร์ท\": \"สมาร์ต\",\n",
    "    \"ซอฟท์แวร์\": \"ซอฟต์แวร์\",\n",
    "    \"แทก\": \"แท็ก\",\n",
    "    \"บรรได\": \"บันได\",\n",
    "    \"วิดิโอ\": \"วิดีโอ\",\n",
    "    \"แทค\": \"แท็ก\",\n",
    "    \"ทอปปิก\": \"ท็อปปิก\",\n",
    "    \"แบงก์\": \"แบงค์\",\n",
    "    \"สแตนเลส\": \"สเตนเลส\",\n",
    "    \"บิคินี\": \"บิคินี\",\n",
    "    \"ํา\": \"ำ\"\n",
    "}"
   ]
  },
  {
   "cell_type": "code",
   "execution_count": null,
   "metadata": {},
   "outputs": [],
   "source": [
    "def apply_corrections(text):\n",
    "    for wrong, correct in corrections.items():\n",
    "        text = text.replace(wrong, correct)\n",
    "    return text"
   ]
  },
  {
   "cell_type": "code",
   "execution_count": null,
   "metadata": {},
   "outputs": [],
   "source": [
    "csv['caption'] = csv['caption'].apply(apply_corrections)"
   ]
  },
  {
   "cell_type": "code",
   "execution_count": null,
   "metadata": {},
   "outputs": [],
   "source": [
    "csv"
   ]
  },
  {
   "cell_type": "code",
   "execution_count": null,
   "metadata": {},
   "outputs": [],
   "source": [
    "csv.to_csv('../../submissions/blip_trained_postprocessed.csv', index=False)"
   ]
  },
  {
   "cell_type": "code",
   "execution_count": null,
   "metadata": {},
   "outputs": [],
   "source": [
    "csv['caption'] = csv['caption'].apply(lambda x: re.sub(r'กำลัง', '', x))"
   ]
  },
  {
   "cell_type": "code",
   "execution_count": null,
   "metadata": {},
   "outputs": [],
   "source": [
    "csv"
   ]
  },
  {
   "cell_type": "code",
   "execution_count": null,
   "metadata": {},
   "outputs": [],
   "source": [
    "csv.to_csv(\n",
    "    '../../submissions/blip_trained_postprocessed_no_kamlung.csv', index=False)"
   ]
  }
 ],
 "metadata": {
  "kernelspec": {
   "display_name": "base",
   "language": "python",
   "name": "python3"
  },
  "language_info": {
   "codemirror_mode": {
    "name": "ipython",
    "version": 3
   },
   "file_extension": ".py",
   "mimetype": "text/x-python",
   "name": "python",
   "nbconvert_exporter": "python",
   "pygments_lexer": "ipython3",
   "version": "3.12.2"
  }
 },
 "nbformat": 4,
 "nbformat_minor": 2
}
