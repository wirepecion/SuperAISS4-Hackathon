{
 "cells": [
  {
   "cell_type": "code",
   "execution_count": null,
   "metadata": {},
   "outputs": [],
   "source": [
    "import pandas as pd\n",
    "import torch\n",
    "from tqdm import tqdm\n",
    "from transformers import pipeline"
   ]
  },
  {
   "cell_type": "code",
   "execution_count": null,
   "metadata": {},
   "outputs": [],
   "source": [
    "device = torch.device(\n",
    "    \"mps\") if torch.backends.mps.is_available() else torch.device(\"cpu\")\n",
    "\n",
    "device"
   ]
  },
  {
   "cell_type": "code",
   "execution_count": null,
   "metadata": {},
   "outputs": [],
   "source": [
    "pipe = pipeline(\"translation\", model=\"google/madlad400-3b-mt\", torch_dtype=torch.bfloat16,\n",
    "                device_map=\"auto\", batch_size=16, num_beams=4).to(device)"
   ]
  },
  {
   "cell_type": "code",
   "execution_count": 4,
   "metadata": {},
   "outputs": [
    {
     "data": {
      "text/html": [
       "<div>\n",
       "<style scoped>\n",
       "    .dataframe tbody tr th:only-of-type {\n",
       "        vertical-align: middle;\n",
       "    }\n",
       "\n",
       "    .dataframe tbody tr th {\n",
       "        vertical-align: top;\n",
       "    }\n",
       "\n",
       "    .dataframe thead th {\n",
       "        text-align: right;\n",
       "    }\n",
       "</style>\n",
       "<table border=\"1\" class=\"dataframe\">\n",
       "  <thead>\n",
       "    <tr style=\"text-align: right;\">\n",
       "      <th></th>\n",
       "      <th>image_id</th>\n",
       "      <th>caption</th>\n",
       "    </tr>\n",
       "  </thead>\n",
       "  <tbody>\n",
       "    <tr>\n",
       "      <th>0</th>\n",
       "      <td>test2017/000000163854</td>\n",
       "      <td>a group of people sitting on a subway train</td>\n",
       "    </tr>\n",
       "    <tr>\n",
       "      <th>1</th>\n",
       "      <td>test2017/000000415644</td>\n",
       "      <td>two women sitting on a couch playing a video game</td>\n",
       "    </tr>\n",
       "    <tr>\n",
       "      <th>2</th>\n",
       "      <td>test2017/000000265746</td>\n",
       "      <td>a black cat sitting under a wooden table</td>\n",
       "    </tr>\n",
       "    <tr>\n",
       "      <th>3</th>\n",
       "      <td>test2017/000000213461</td>\n",
       "      <td>a white truck with a ramp on the back</td>\n",
       "    </tr>\n",
       "    <tr>\n",
       "      <th>4</th>\n",
       "      <td>test2017/000000436071</td>\n",
       "      <td>a group of people sitting on surfboards in the...</td>\n",
       "    </tr>\n",
       "    <tr>\n",
       "      <th>...</th>\n",
       "      <td>...</td>\n",
       "      <td>...</td>\n",
       "    </tr>\n",
       "    <tr>\n",
       "      <th>40665</th>\n",
       "      <td>test2017/000000215533</td>\n",
       "      <td>a man is putting a red tweezers into a teddy bear</td>\n",
       "    </tr>\n",
       "    <tr>\n",
       "      <th>40666</th>\n",
       "      <td>test2017/000000171600</td>\n",
       "      <td>two people are surfing on a wave in the ocean</td>\n",
       "    </tr>\n",
       "    <tr>\n",
       "      <th>40667</th>\n",
       "      <td>test2017/000000475921</td>\n",
       "      <td>a person is holding a bird in front of a laptop</td>\n",
       "    </tr>\n",
       "    <tr>\n",
       "      <th>40668</th>\n",
       "      <td>test2017/000000491543</td>\n",
       "      <td>a group of people flying kites in a field</td>\n",
       "    </tr>\n",
       "    <tr>\n",
       "      <th>40669</th>\n",
       "      <td>test2017/000000282468</td>\n",
       "      <td>a motorcycle is parked on a street in a city</td>\n",
       "    </tr>\n",
       "  </tbody>\n",
       "</table>\n",
       "<p>40670 rows × 2 columns</p>\n",
       "</div>"
      ],
      "text/plain": [
       "                    image_id  \\\n",
       "0      test2017/000000163854   \n",
       "1      test2017/000000415644   \n",
       "2      test2017/000000265746   \n",
       "3      test2017/000000213461   \n",
       "4      test2017/000000436071   \n",
       "...                      ...   \n",
       "40665  test2017/000000215533   \n",
       "40666  test2017/000000171600   \n",
       "40667  test2017/000000475921   \n",
       "40668  test2017/000000491543   \n",
       "40669  test2017/000000282468   \n",
       "\n",
       "                                                 caption  \n",
       "0            a group of people sitting on a subway train  \n",
       "1      two women sitting on a couch playing a video game  \n",
       "2               a black cat sitting under a wooden table  \n",
       "3                  a white truck with a ramp on the back  \n",
       "4      a group of people sitting on surfboards in the...  \n",
       "...                                                  ...  \n",
       "40665  a man is putting a red tweezers into a teddy bear  \n",
       "40666      two people are surfing on a wave in the ocean  \n",
       "40667    a person is holding a bird in front of a laptop  \n",
       "40668          a group of people flying kites in a field  \n",
       "40669       a motorcycle is parked on a street in a city  \n",
       "\n",
       "[40670 rows x 2 columns]"
      ]
     },
     "execution_count": 4,
     "metadata": {},
     "output_type": "execute_result"
    }
   ],
   "source": [
    "df = pd.read_csv(\"../../output/blip2/vanilla.csv\")\n",
    "df"
   ]
  },
  {
   "cell_type": "code",
   "execution_count": null,
   "metadata": {},
   "outputs": [],
   "source": [
    "result_all = []\n",
    "for batched_texts in tqdm(batch(test_texts, 16), total=len(test_texts)//16+1):\n",
    "    results = pipe([\"<2th> \"+x for x in batched_texts], max_length=256)\n",
    "\n",
    "    for result in results:\n",
    "        result_all.append(result['translation_text'])\n",
    "\n",
    "    break\n",
    "result_all"
   ]
  }
 ],
 "metadata": {
  "kernelspec": {
   "display_name": "torch",
   "language": "python",
   "name": "python3"
  },
  "language_info": {
   "codemirror_mode": {
    "name": "ipython",
    "version": 3
   },
   "file_extension": ".py",
   "mimetype": "text/x-python",
   "name": "python",
   "nbconvert_exporter": "python",
   "pygments_lexer": "ipython3",
   "version": "3.12.2"
  }
 },
 "nbformat": 4,
 "nbformat_minor": 2
}
