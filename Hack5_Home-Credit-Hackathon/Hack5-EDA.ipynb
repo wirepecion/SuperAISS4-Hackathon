{
 "cells": [
  {
   "cell_type": "code",
   "execution_count": 4,
   "metadata": {},
   "outputs": [],
   "source": [
    "import os\n",
    "import polars as pl\n",
    "import pandas as pd"
   ]
  },
  {
   "cell_type": "code",
   "execution_count": 5,
   "metadata": {},
   "outputs": [],
   "source": [
    "sample_submission = pd.read_csv('KBTG_train_test\\df_test_kbtg_1.csv')"
   ]
  },
  {
   "cell_type": "code",
   "execution_count": 19,
   "metadata": {},
   "outputs": [
    {
     "data": {
      "text/plain": [
       "['price_1097A',\n",
       " 'mobilephncnt_593L',\n",
       " 'pmtnum_254L',\n",
       " 'avgdpdtolclosure24_3658938P',\n",
       " 'numrejects9m_859L',\n",
       " 'cntpmts24_3658933L',\n",
       " 'numinstunpaidmax_3546851L',\n",
       " 'eir_270L',\n",
       " 'numinstlsallpaid_934L',\n",
       " 'lastdelinqdate_224D',\n",
       " 'maxdbddpdtollast12m_3658940P',\n",
       " 'numincomingpmts_3546848L',\n",
       " 'pctinstlsallpaidlate1d_3546856L',\n",
       " 'maxdpdlast3m_392P',\n",
       " 'monthsannuity_845L',\n",
       " 'datelastinstal40dpd_247D',\n",
       " 'lastrejectreason_759M',\n",
       " 'pmtssum_45A',\n",
       " 'education_1103M',\n",
       " 'riskassesment_940T',\n",
       " 'pmtaverage_3A',\n",
       " 'days30_165L',\n",
       " 'days360_512L',\n",
       " 'days180_256L',\n",
       " 'thirdquarter_1082L',\n",
       " 'riskassesment_302T',\n",
       " 'days120_123L',\n",
       " 'firstquarter_103L',\n",
       " 'registaddr_district_1083M',\n",
       " 'education_927M',\n",
       " 'mainoccupationinc_384A',\n",
       " 'incometype_1044T',\n",
       " 'empladdr_district_926M',\n",
       " 'housetype_905L',\n",
       " 'type_25L',\n",
       " 'amount_416A',\n",
       " 'last180dayturnover_1134A',\n",
       " 'last180dayaveragebalance_704A',\n",
       " 'last30dayturnover_651A',\n",
       " 'dateofcredstart_739D',\n",
       " 'residualamount_856A',\n",
       " 'refreshdate_3813885D',\n",
       " 'dateofcredstart_181D',\n",
       " 'numberofoverdueinstlmax_1039L',\n",
       " 'totalamount_996A',\n",
       " 'dpdmaxdateyear_596T',\n",
       " 'dpdmax_757P',\n",
       " 'description_351M',\n",
       " 'totaldebtoverduevalue_178A',\n",
       " 'dpdmax_139P',\n",
       " 'totalamount_6A',\n",
       " 'lastupdate_1112D',\n",
       " 'overdueamountmax_35A',\n",
       " 'overdueamountmax2_398A',\n",
       " 'totaloutstanddebtvalue_39A',\n",
       " 'numberofinstls_320L',\n",
       " 'numberofoverdueinstlmaxdat_148D',\n",
       " 'overdueamountmax2_14A',\n",
       " 'numberofcontrsvalue_258L']"
      ]
     },
     "execution_count": 19,
     "metadata": {},
     "output_type": "execute_result"
    }
   ],
   "source": [
    "list(sample_submission.columns)"
   ]
  },
  {
   "cell_type": "code",
   "execution_count": 12,
   "metadata": {},
   "outputs": [],
   "source": [
    "cut_fea = ['lastdelinqdate_224D',\n",
    "'datelastinstal40dpd_247D',\n",
    "'pmtssum_45A',\n",
    "'pmtaverage_3A',\n",
    "'dateofcredstart_739D',\n",
    "'refreshdate_3813885D',\n",
    "'dateofcredstart_181D',\n",
    "'lastupdate_1112D',\n",
    "'numberofoverdueinstlmaxdat_148D']"
   ]
  },
  {
   "cell_type": "code",
   "execution_count": 21,
   "metadata": {},
   "outputs": [
    {
     "name": "stdout",
     "output_type": "stream",
     "text": [
      "lastdelinqdate_224D\n",
      "datelastinstal40dpd_247D\n",
      "pmtssum_45A\n",
      "pmtaverage_3A\n",
      "dateofcredstart_739D\n",
      "refreshdate_3813885D\n",
      "dateofcredstart_181D\n",
      "lastupdate_1112D\n",
      "numberofoverdueinstlmaxdat_148D\n"
     ]
    }
   ],
   "source": [
    "for i in list(sample_submission.columns):\n",
    "    if sum(sample_submission[f'{i}'].isnull()) == 20000:\n",
    "        print(i)"
   ]
  },
  {
   "cell_type": "code",
   "execution_count": null,
   "metadata": {},
   "outputs": [],
   "source": []
  }
 ],
 "metadata": {
  "kernelspec": {
   "display_name": "Python 3",
   "language": "python",
   "name": "python3"
  },
  "language_info": {
   "codemirror_mode": {
    "name": "ipython",
    "version": 3
   },
   "file_extension": ".py",
   "mimetype": "text/x-python",
   "name": "python",
   "nbconvert_exporter": "python",
   "pygments_lexer": "ipython3",
   "version": "3.10.11"
  }
 },
 "nbformat": 4,
 "nbformat_minor": 2
}
